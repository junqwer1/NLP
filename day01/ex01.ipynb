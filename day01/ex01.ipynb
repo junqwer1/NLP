{
 "cells": [
  {
   "cell_type": "code",
   "execution_count": 1,
   "id": "0093efde-d26c-4b8d-a707-8c024a392cba",
   "metadata": {},
   "outputs": [
    {
     "name": "stdout",
     "output_type": "stream",
     "text": [
      "Collecting nltk\n",
      "  Downloading nltk-3.9.1-py3-none-any.whl.metadata (2.9 kB)\n",
      "Collecting click (from nltk)\n",
      "  Downloading click-8.1.8-py3-none-any.whl.metadata (2.3 kB)\n",
      "Requirement already satisfied: joblib in d:\\mldl\\lib\\site-packages (from nltk) (1.4.2)\n",
      "Collecting regex>=2021.8.3 (from nltk)\n",
      "  Downloading regex-2024.11.6-cp312-cp312-win_amd64.whl.metadata (41 kB)\n",
      "Collecting tqdm (from nltk)\n",
      "  Downloading tqdm-4.67.1-py3-none-any.whl.metadata (57 kB)\n",
      "Requirement already satisfied: colorama in d:\\mldl\\lib\\site-packages (from click->nltk) (0.4.6)\n",
      "Downloading nltk-3.9.1-py3-none-any.whl (1.5 MB)\n",
      "   ---------------------------------------- 0.0/1.5 MB ? eta -:--:--\n",
      "   ---------------------------------------- 1.5/1.5 MB 9.9 MB/s eta 0:00:00\n",
      "Downloading regex-2024.11.6-cp312-cp312-win_amd64.whl (273 kB)\n",
      "Downloading click-8.1.8-py3-none-any.whl (98 kB)\n",
      "Downloading tqdm-4.67.1-py3-none-any.whl (78 kB)\n",
      "Installing collected packages: tqdm, regex, click, nltk\n",
      "Successfully installed click-8.1.8 nltk-3.9.1 regex-2024.11.6 tqdm-4.67.1\n"
     ]
    }
   ],
   "source": [
    "# 토크나이징\n",
    "# nltk\n",
    "!pip install nltk"
   ]
  },
  {
   "cell_type": "code",
   "execution_count": 6,
   "id": "d1c0c9b5-041a-4be2-ad43-153cbf4eb689",
   "metadata": {},
   "outputs": [
    {
     "data": {
      "text/plain": [
       "True"
      ]
     },
     "execution_count": 6,
     "metadata": {},
     "output_type": "execute_result"
    }
   ],
   "source": [
    "import nltk\n",
    "nltk.download(\"all\", quiet=True)"
   ]
  },
  {
   "cell_type": "code",
   "execution_count": 9,
   "id": "b2e1acaa-3f03-4d5c-8abf-5f554f3cdeec",
   "metadata": {},
   "outputs": [
    {
     "name": "stdout",
     "output_type": "stream",
     "text": [
      "['사과', ',', '배', ',', '오렌지', ',', '나는', '3개의', '사과를', '구입했다']\n"
     ]
    }
   ],
   "source": [
    "# word_tokenize : 단어 단위로 토큰 분리, sent_tokenize : 문장 단위로 토큰 분리\n",
    "from nltk.tokenize import word_tokenize\n",
    "\n",
    "# text = \"apple, pear, orange, i bought 3 apple\"\n",
    "text = \"사과, 배, 오렌지, 나는 3개의 사과를 구입했다\"\n",
    "print(word_tokenize(text))"
   ]
  },
  {
   "cell_type": "code",
   "execution_count": 8,
   "id": "03526c9e-2521-4d64-85ce-ecf850d7f2db",
   "metadata": {},
   "outputs": [
    {
     "name": "stdout",
     "output_type": "stream",
     "text": [
      "['삼성전자의 뒤를 이어 KT(1218억원), 쿠팡(660억원)도 지난해와 순위가 같았다.', '나머지 기업들은 10위 권 내에서 순위 변동이 있었다.', '지난해까지 4위와 5위였던 SK하이닉스와 SK텔레콤은 각각 6위와 7위로 밀려났고, 그 자리는 삼성SDS와 LG U+가 차지했다.', '정보 보호 전담 인력은 삼성전자, KT, 삼성SDS 순으로 많았다.', '공시 대상 기업 전체의 올해 정보 보호 투자액은 2조1196억원, 전담 인력은 7681.4명으로 지난해보다 각각 15.7%, 13.9% 증가했다.', '평균 투자액(29억원)과 평균 전담 인력(10.5명)도 지난해보다 늘었다.', '정보 보호에 대한 기업의 사회적 책임이 강조됨에 따라 자율 공시 기업의 수도 지난해 63개에서 91개로 늘었다.', '업종별 평균 투자액은 금융업(76억원), 정보통신업(59억원), 도소매업(27억원) 순으로 많았다.', '류제명 과학기술정보통신부 네트워크정책실장은 \"정보보호 공시 제도가 기업의 정보보호 수준 제고에 기여하고 있음을 기업들의 자발적인 정보보호 투자 확대를 통해 확인할 수 있었다\"며 \"정부는 공시 내용 검증을 통해 정확한 정보를 이용자에게 제공할 것\"이라고 말했다.']\n"
     ]
    }
   ],
   "source": [
    "from nltk.tokenize import sent_tokenize\n",
    "\n",
    "text= \"\"\"삼성전자의 뒤를 이어 KT(1218억원), 쿠팡(660억원)도 지난해와 순위가 같았다. 나머지 기업들은 10위 권 내에서 순위 변동이 있었다. 지난해까지 4위와 5위였던 SK하이닉스와 SK텔레콤은 각각 6위와 7위로 밀려났고, 그 자리는 삼성SDS와 LG U+가 차지했다.\n",
    "\n",
    "정보 보호 전담 인력은 삼성전자, KT, 삼성SDS 순으로 많았다. 공시 대상 기업 전체의 올해 정보 보호 투자액은 2조1196억원, 전담 인력은 7681.4명으로 지난해보다 각각 15.7%, 13.9% 증가했다. 평균 투자액(29억원)과 평균 전담 인력(10.5명)도 지난해보다 늘었다.\n",
    "\n",
    "정보 보호에 대한 기업의 사회적 책임이 강조됨에 따라 자율 공시 기업의 수도 지난해 63개에서 91개로 늘었다.\n",
    "\n",
    "업종별 평균 투자액은 금융업(76억원), 정보통신업(59억원), 도소매업(27억원) 순으로 많았다.\n",
    "\n",
    "류제명 과학기술정보통신부 네트워크정책실장은 \"정보보호 공시 제도가 기업의 정보보호 수준 제고에 기여하고 있음을 기업들의 자발적인 정보보호 투자 확대를 통해 확인할 수 있었다\"며 \"정부는 공시 내용 검증을 통해 정확한 정보를 이용자에게 제공할 것\"이라고 말했다.\"\"\"\n",
    "print(sent_tokenize(text))"
   ]
  },
  {
   "cell_type": "code",
   "execution_count": 10,
   "id": "a7b93011-5a80-46a9-b24d-056b15c37668",
   "metadata": {},
   "outputs": [],
   "source": [
    "# 원핫인코딩\n",
    "from sklearn.preprocessing import LabelEncoder"
   ]
  },
  {
   "cell_type": "code",
   "execution_count": 14,
   "id": "b8ac84b9-04c0-4765-95a8-79720339b9d8",
   "metadata": {},
   "outputs": [
    {
     "name": "stdout",
     "output_type": "stream",
     "text": [
      "{'배', '오렌지', '포도', '사과'}\n"
     ]
    }
   ],
   "source": [
    "data = [\"사과\", \"배\", \"사과\", \"오렌지\", \"포도\", \"배\", \"사과\"]\n",
    "print(set(data))"
   ]
  },
  {
   "cell_type": "code",
   "execution_count": 15,
   "id": "77dae4d0-4453-499b-a43e-a7265bd4c36f",
   "metadata": {},
   "outputs": [],
   "source": [
    "import numpy as np"
   ]
  },
  {
   "cell_type": "code",
   "execution_count": 16,
   "id": "53bb30d9-41f5-4ba5-9c96-a43046731f50",
   "metadata": {},
   "outputs": [
    {
     "name": "stdout",
     "output_type": "stream",
     "text": [
      "['사과' '배' '사과' '오렌지' '포도' '배' '사과']\n"
     ]
    }
   ],
   "source": [
    "values = np.array(data)\n",
    "print(values)"
   ]
  },
  {
   "cell_type": "code",
   "execution_count": 17,
   "id": "8d383ae1-6223-4f80-8b75-ac1724203b06",
   "metadata": {},
   "outputs": [],
   "source": [
    "# 레이블 인코딩\n",
    "label_encoder = LabelEncoder() # 데이터 -> int, int 순서 -> 데이터\n",
    "# fit(...), : 기준, tranform(..) : 변환\n",
    "# fit_transform(..) : fit() + transform()\n",
    "integer_encoded = label_encoder.fit_transform(values)"
   ]
  },
  {
   "cell_type": "code",
   "execution_count": 19,
   "id": "fddc3c56-1173-4ef1-bd91-2b75d07b5849",
   "metadata": {},
   "outputs": [
    {
     "name": "stdout",
     "output_type": "stream",
     "text": [
      "{'배', '오렌지', '포도', '사과'}\n"
     ]
    },
    {
     "data": {
      "text/plain": [
       "array([1, 0, 1, 2, 3, 0, 1], dtype=int64)"
      ]
     },
     "execution_count": 19,
     "metadata": {},
     "output_type": "execute_result"
    }
   ],
   "source": [
    "print(set(data))\n",
    "integer_encoded"
   ]
  },
  {
   "cell_type": "code",
   "execution_count": 21,
   "id": "4116b06a-89d0-4b3d-a013-b7b7c850e554",
   "metadata": {},
   "outputs": [
    {
     "name": "stdout",
     "output_type": "stream",
     "text": [
      "[[1]\n",
      " [0]\n",
      " [1]\n",
      " [2]\n",
      " [3]\n",
      " [0]\n",
      " [1]]\n",
      "(7, 1)\n"
     ]
    }
   ],
   "source": [
    "integer_encoded = integer_encoded.reshape(-1, 1)\n",
    "print(integer_encoded)\n",
    "print(integer_encoded.shape)"
   ]
  },
  {
   "cell_type": "code",
   "execution_count": 23,
   "id": "cc455369-3069-4b1b-ad60-b041243aa610",
   "metadata": {},
   "outputs": [
    {
     "name": "stdout",
     "output_type": "stream",
     "text": [
      "[[0. 1. 0. 0.]\n",
      " [1. 0. 0. 0.]\n",
      " [0. 1. 0. 0.]\n",
      " [0. 0. 1. 0.]\n",
      " [0. 0. 0. 1.]\n",
      " [1. 0. 0. 0.]\n",
      " [0. 1. 0. 0.]]\n"
     ]
    }
   ],
   "source": [
    "from sklearn.preprocessing import OneHotEncoder\n",
    "onehot_encoder = OneHotEncoder(sparse_output=False)\n",
    "onehot_encoded = onehot_encoder.fit_transform(integer_encoded)\n",
    "print(onehot_encoded)"
   ]
  },
  {
   "cell_type": "code",
   "execution_count": 25,
   "id": "b5d56c28-b73a-465b-8940-d83e89f5f40d",
   "metadata": {},
   "outputs": [
    {
     "name": "stdout",
     "output_type": "stream",
     "text": [
      "['오렌지']\n"
     ]
    }
   ],
   "source": [
    "# LabelEncoder : :invert_transform - 원핫인코딩된 값 -> 원래 범주\n",
    "# numpy.argmax(...) : 가장 큰 값의 인덱스 번호\n",
    "\n",
    "inverted = label_encoder.inverse_transform([2])\n",
    "print(inverted)"
   ]
  },
  {
   "cell_type": "code",
   "execution_count": 26,
   "id": "53e89f1d-b5cf-4810-ac1d-69c7454f8ba6",
   "metadata": {},
   "outputs": [
    {
     "name": "stdout",
     "output_type": "stream",
     "text": [
      "['배']\n"
     ]
    }
   ],
   "source": [
    "inverted = label_encoder.inverse_transform([onehot_encoded[6, :].argmax()])\n",
    "print(inverted)"
   ]
  }
 ],
 "metadata": {
  "kernelspec": {
   "display_name": "Python 3 (ipykernel)",
   "language": "python",
   "name": "python3"
  },
  "language_info": {
   "codemirror_mode": {
    "name": "ipython",
    "version": 3
   },
   "file_extension": ".py",
   "mimetype": "text/x-python",
   "name": "python",
   "nbconvert_exporter": "python",
   "pygments_lexer": "ipython3",
   "version": "3.12.7"
  }
 },
 "nbformat": 4,
 "nbformat_minor": 5
}
