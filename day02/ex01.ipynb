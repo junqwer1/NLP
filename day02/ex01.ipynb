{
 "cells": [
  {
   "cell_type": "code",
   "execution_count": 1,
   "id": "f9f08990-1215-49bd-85ea-8c7322a5f166",
   "metadata": {},
   "outputs": [],
   "source": [
    "from nltk.util import pad_sequence\n",
    "from nltk.util import bigrams\n",
    "from nltk.util import ngrams\n",
    "from nltk.util import everygrams"
   ]
  },
  {
   "cell_type": "code",
   "execution_count": 2,
   "id": "9e564617-9e4d-423d-9ab1-0b08c45bac98",
   "metadata": {},
   "outputs": [
    {
     "data": {
      "text/plain": [
       "True"
      ]
     },
     "execution_count": 2,
     "metadata": {},
     "output_type": "execute_result"
    }
   ],
   "source": [
    "import nltk\n",
    "nltk.download(\"all\", quiet=True)"
   ]
  },
  {
   "cell_type": "code",
   "execution_count": 3,
   "id": "4d4d4a75-79be-4847-b8b1-0ed88b52a769",
   "metadata": {},
   "outputs": [],
   "source": [
    "text = [['a', 'b', 'c'], ['a', 'c', 'd', 'c', 'e', 'f']]"
   ]
  },
  {
   "cell_type": "code",
   "execution_count": 5,
   "id": "495af61d-e202-40c9-a054-3e209c8dd3d9",
   "metadata": {},
   "outputs": [
    {
     "data": {
      "text/plain": [
       "[('a', 'b'), ('b', 'c')]"
      ]
     },
     "execution_count": 5,
     "metadata": {},
     "output_type": "execute_result"
    }
   ],
   "source": [
    "list(bigrams(text[0]))"
   ]
  },
  {
   "cell_type": "code",
   "execution_count": 6,
   "id": "1237c080-8738-4f84-8ee9-edf9e503c91c",
   "metadata": {},
   "outputs": [
    {
     "data": {
      "text/plain": [
       "[('a', 'c'), ('c', 'd'), ('d', 'c'), ('c', 'e'), ('e', 'f')]"
      ]
     },
     "execution_count": 6,
     "metadata": {},
     "output_type": "execute_result"
    }
   ],
   "source": [
    "list(bigrams(text[1]))"
   ]
  },
  {
   "cell_type": "code",
   "execution_count": 7,
   "id": "00a00d93-3bc0-42b5-af6a-929e94c25e01",
   "metadata": {},
   "outputs": [
    {
     "data": {
      "text/plain": [
       "[('a', 'c', 'd'), ('c', 'd', 'c'), ('d', 'c', 'e'), ('c', 'e', 'f')]"
      ]
     },
     "execution_count": 7,
     "metadata": {},
     "output_type": "execute_result"
    }
   ],
   "source": [
    "list(ngrams(text[1], n=3))"
   ]
  },
  {
   "cell_type": "code",
   "execution_count": null,
   "id": "03833039-dc46-4e3f-abc6-d4c8e50693c9",
   "metadata": {},
   "outputs": [],
   "source": [
    "# list(everygrams(text[1], n=3))"
   ]
  },
  {
   "cell_type": "code",
   "execution_count": 11,
   "id": "e76496c4-c4c0-4c8b-ac14-88c5b0febe23",
   "metadata": {},
   "outputs": [],
   "source": [
    "# 문장의 시작과 끝에 대한 토큰 추가 pad_sequence\n",
    "padded = list(pad_sequence(text[0], pad_left=True, left_pad_symbol=\"<s>\", pad_right=True, right_pad_symbol=\"</s>\", n=2))"
   ]
  },
  {
   "cell_type": "code",
   "execution_count": 10,
   "id": "7b771b88-44a1-47c9-9dc1-ea8047dc27e7",
   "metadata": {},
   "outputs": [
    {
     "data": {
      "text/plain": [
       "[('<s>', 'a'), ('a', 'b'), ('b', 'c'), ('c', '</s>')]"
      ]
     },
     "execution_count": 10,
     "metadata": {},
     "output_type": "execute_result"
    }
   ],
   "source": [
    "list(ngrams(padded, n=2))"
   ]
  },
  {
   "cell_type": "code",
   "execution_count": 12,
   "id": "d833265c-f07c-4c9c-aaae-04ed574a396f",
   "metadata": {},
   "outputs": [],
   "source": [
    "padded = list(pad_sequence(text[1], pad_left=True, left_pad_symbol=\"<s>\", pad_right=True, right_pad_symbol=\"</s>\", n=2))"
   ]
  },
  {
   "cell_type": "code",
   "execution_count": 14,
   "id": "3fb298cd-265b-411f-9e83-c3a1e142dea9",
   "metadata": {},
   "outputs": [
    {
     "data": {
      "text/plain": [
       "[('<s>',),\n",
       " ('<s>', 'a'),\n",
       " ('<s>', 'a', 'c'),\n",
       " ('a',),\n",
       " ('a', 'c'),\n",
       " ('a', 'c', 'd'),\n",
       " ('c',),\n",
       " ('c', 'd'),\n",
       " ('c', 'd', 'c'),\n",
       " ('d',),\n",
       " ('d', 'c'),\n",
       " ('d', 'c', 'e'),\n",
       " ('c',),\n",
       " ('c', 'e'),\n",
       " ('c', 'e', 'f'),\n",
       " ('e',),\n",
       " ('e', 'f'),\n",
       " ('e', 'f', '</s>'),\n",
       " ('f',),\n",
       " ('f', '</s>'),\n",
       " ('</s>',)]"
      ]
     },
     "execution_count": 14,
     "metadata": {},
     "output_type": "execute_result"
    }
   ],
   "source": [
    "padded\n",
    "list(everygrams(padded, max_len=3))"
   ]
  },
  {
   "cell_type": "code",
   "execution_count": 15,
   "id": "bea49e42-cec8-4458-802b-094a10a9fbb3",
   "metadata": {},
   "outputs": [],
   "source": [
    "from nltk.lm.preprocessing import pad_both_ends"
   ]
  },
  {
   "cell_type": "code",
   "execution_count": 16,
   "id": "7d75a326-f6e5-4360-8e3b-764657353acb",
   "metadata": {},
   "outputs": [
    {
     "data": {
      "text/plain": [
       "['<s>', 'a', 'b', 'c', '</s>']"
      ]
     },
     "execution_count": 16,
     "metadata": {},
     "output_type": "execute_result"
    }
   ],
   "source": [
    "list(pad_both_ends(text[0], n=2))"
   ]
  },
  {
   "cell_type": "code",
   "execution_count": 17,
   "id": "5955e1b2-fc23-43cf-8ad2-a2d142cd3f89",
   "metadata": {},
   "outputs": [
    {
     "data": {
      "text/plain": [
       "[['a', 'b', 'c'], ['a', 'c', 'd', 'c', 'e', 'f']]"
      ]
     },
     "execution_count": 17,
     "metadata": {},
     "output_type": "execute_result"
    }
   ],
   "source": [
    "text"
   ]
  },
  {
   "cell_type": "code",
   "execution_count": 18,
   "id": "e17de8b9-1ea3-4429-af6e-a5b9c59740d5",
   "metadata": {},
   "outputs": [
    {
     "data": {
      "text/plain": [
       "[['<s>', 'a', 'b', 'c', '</s>'], ['<s>', 'a', 'c', 'd', 'c', 'e', 'f', '</s>']]"
      ]
     },
     "execution_count": 18,
     "metadata": {},
     "output_type": "execute_result"
    }
   ],
   "source": [
    "[list(pad_both_ends(sent, 2)) for sent in text ]"
   ]
  },
  {
   "cell_type": "code",
   "execution_count": 19,
   "id": "df4f4776-a1eb-4a62-8822-b4c43ad12f96",
   "metadata": {},
   "outputs": [],
   "source": [
    "from nltk.lm.preprocessing import flatten"
   ]
  },
  {
   "cell_type": "code",
   "execution_count": 20,
   "id": "cda7a363-5536-42b5-9c9c-a6f273d6b45e",
   "metadata": {},
   "outputs": [
    {
     "data": {
      "text/plain": [
       "['<s>', 'a', 'b', 'c', '</s>', '<s>', 'a', 'c', 'd', 'c', 'e', 'f', '</s>']"
      ]
     },
     "execution_count": 20,
     "metadata": {},
     "output_type": "execute_result"
    }
   ],
   "source": [
    "list(flatten(pad_both_ends(sent, 2) for sent in text))"
   ]
  },
  {
   "cell_type": "code",
   "execution_count": 21,
   "id": "ac35078c-b937-4a61-90b3-e35e4d85ae4b",
   "metadata": {},
   "outputs": [],
   "source": [
    "from nltk.lm.preprocessing import padded_everygram_pipeline"
   ]
  },
  {
   "cell_type": "code",
   "execution_count": 22,
   "id": "f8b0d836-dad4-4617-8a6a-d4c25abcd719",
   "metadata": {},
   "outputs": [],
   "source": [
    "training_ngrams, padded_sentences = padded_everygram_pipeline(2, text)"
   ]
  },
  {
   "cell_type": "code",
   "execution_count": 24,
   "id": "82c9a824-d7e8-48e4-8314-fadacb5734ee",
   "metadata": {},
   "outputs": [
    {
     "data": {
      "text/plain": [
       "[<generator object everygrams at 0x000002B00986FDE0>,\n",
       " <generator object everygrams at 0x000002B00986F9A0>]"
      ]
     },
     "execution_count": 24,
     "metadata": {},
     "output_type": "execute_result"
    }
   ],
   "source": [
    "list(training_ngrams)"
   ]
  },
  {
   "cell_type": "code",
   "execution_count": 25,
   "id": "c6b29a23-8d4d-4890-a387-8c203d699a7c",
   "metadata": {},
   "outputs": [
    {
     "data": {
      "text/plain": [
       "['<s>', 'a', 'b', 'c', '</s>', '<s>', 'a', 'c', 'd', 'c', 'e', 'f', '</s>']"
      ]
     },
     "execution_count": 25,
     "metadata": {},
     "output_type": "execute_result"
    }
   ],
   "source": [
    "list(padded_sentences)"
   ]
  }
 ],
 "metadata": {
  "kernelspec": {
   "display_name": "Python 3 (ipykernel)",
   "language": "python",
   "name": "python3"
  },
  "language_info": {
   "codemirror_mode": {
    "name": "ipython",
    "version": 3
   },
   "file_extension": ".py",
   "mimetype": "text/x-python",
   "name": "python",
   "nbconvert_exporter": "python",
   "pygments_lexer": "ipython3",
   "version": "3.12.7"
  }
 },
 "nbformat": 4,
 "nbformat_minor": 5
}
